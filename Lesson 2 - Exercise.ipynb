{
  "nbformat": 4,
  "nbformat_minor": 0,
  "metadata": {
    "colab": {
      "name": "Cópia de Lesson 2 - Exercise.ipynb",
      "provenance": []
    },
    "kernelspec": {
      "name": "python3",
      "display_name": "Python 3"
    },
    "language_info": {
      "name": "python"
    }
  },
  "cells": [
    {
      "cell_type": "markdown",
      "metadata": {
        "id": "YGoGFx3lWBbJ"
      },
      "source": [
        "Student Identification\n",
        "\n",
        "- Name Student: Carlos Eduardo \n",
        "- Name Student: Carmem Stefanie"
      ]
    },
    {
      "cell_type": "markdown",
      "metadata": {
        "id": "0vUTEVI2SSAQ"
      },
      "source": [
        "# Exercise Q&A (1,00 point for grade in Unit 01)"
      ]
    },
    {
      "cell_type": "markdown",
      "metadata": {
        "id": "tG_xFopi_wpj"
      },
      "source": [
        "## Question 01"
      ]
    },
    {
      "cell_type": "markdown",
      "metadata": {
        "id": "rtVDKKTDGCND"
      },
      "source": [
        "Consider a network with *N* nodes. Given a single link, what is the maximum number of nodes that link can connect? Given a single node, what is the maximum number of links that can connect to that node?"
      ]
    },
    {
      "cell_type": "markdown",
      "metadata": {
        "id": "3n2EjOMmHMuI"
      },
      "source": [
        "Answer: Um único link pode conectar apenas dois nós. Um nó pode ligar-se, no máximo, com N-1 links (quando o nó está ligado com todos os nós, exceto com ele próprio). Caso a rede seja dirigida, o número máximo seria 2(N-1), já que para cada outro nó pode haver uma conexão indo e outra voltando."
      ]
    },
    {
      "cell_type": "markdown",
      "metadata": {
        "id": "uQPRLZUXHRFc"
      },
      "source": [
        "## Question 02"
      ]
    },
    {
      "cell_type": "markdown",
      "metadata": {
        "id": "FnKLHki-Hay_"
      },
      "source": [
        "\n",
        "<center><img width=\"600\" src=\"https://drive.google.com/uc?export=view&id=1Y42-c3Pq1XoszEEvYsZFdr3GccAqp7l_\"></center>\n",
        "<center><b>Figure 1</b>: Map of New York in 1880. From Report on the Social Statistics of Cities, Compiled by George E. Waring, Jr., U.S. Census Office, 1886. Image courtesy of University of Texas Libraries. <br></center>\n",
        "\n",
        "\n",
        "Consider the road map in Figure 1. The grid-like structure of this network means that most nodes have the same degree. What is the most common degree for nodes in this network?\n",
        "\n"
      ]
    },
    {
      "cell_type": "markdown",
      "metadata": {
        "id": "DtBZnm2OHgaI"
      },
      "source": [
        "Answer: 4. A malha das ruas é, aparentemente, formada por quadrados. Dessa forma, considerando cada nó como um cruzamento, cada cruzamento conecta-se aos seus vizinhos por 4 ruas - cada nó liga-se aos próximos por 4 links. "
      ]
    },
    {
      "cell_type": "markdown",
      "metadata": {
        "id": "pyOgImYmJsh3"
      },
      "source": [
        "## Question 03"
      ]
    },
    {
      "cell_type": "markdown",
      "metadata": {
        "id": "17qGjrMHJvZ7"
      },
      "source": [
        "Consider the road map in Figure 1. Manhattan has a lot of one-way streets. This implies that a good network model of traffic flow would probably have directed links. Consider a subgraph of this network with grid-like connectivity and all one-way streets (i.e. each node is a four-way intersection of two one-way streets). What is the most common in-degree of nodes in this subgraph? What is the most common out-degree?"
      ]
    },
    {
      "cell_type": "markdown",
      "metadata": {
        "id": "71j_C-55KIVC"
      },
      "source": [
        "Answer: Se cada nó é a interseção de duas ruas de sentido único, então cada nós tem grau de entrada igual a 2 e grau de saída também igual a 2. Uma rua indo de norte-sul passando pelo cruzamento vai representar um link de entrada (norte->cruzamento) e um de saída (cruzamento->sul) - o comportamento se repete para a outra rua do cruzamento, sentido oeste-leste. "
      ]
    },
    {
      "cell_type": "markdown",
      "metadata": {
        "id": "6ajWuuasKLQ_"
      },
      "source": [
        "## Question 04"
      ]
    },
    {
      "cell_type": "markdown",
      "metadata": {
        "id": "ylQ51DMWKZxC"
      },
      "source": [
        "What network quantity can we use to represent the volume of traffic between each pair of adjacent intersections in the Manhattan road map (Figure 1)?"
      ]
    },
    {
      "cell_type": "markdown",
      "metadata": {
        "id": "oE9sJ1mWKcF0"
      },
      "source": [
        "Answer: O peso dos links entre dois nós.\n",
        "\n"
      ]
    },
    {
      "cell_type": "markdown",
      "metadata": {
        "id": "udxnPkItKfX3"
      },
      "source": [
        "## Question 5"
      ]
    },
    {
      "cell_type": "markdown",
      "metadata": {
        "id": "fj7f0HL7KtOy"
      },
      "source": [
        "Consider a directed network of N nodes. Now consider the total in-degree (i.e. the sum of the in-degree over all nodes in the network). Compare this to the analogous total out-degree. Which of the following must hold true for any such network?\n",
        "\n",
        "1. Total in-degree must be less than total out-degree\n",
        "2. Total in-degree must be greater than total out-degree\n",
        "3. Total in-degree must be equal to total out-degree\n",
        "4. None of these hold true in all instances"
      ]
    },
    {
      "cell_type": "markdown",
      "metadata": {
        "id": "4P5ThuVNK3Ug"
      },
      "source": [
        "Answer: 3. "
      ]
    },
    {
      "cell_type": "markdown",
      "metadata": {
        "id": "QPVskC76LUtF"
      },
      "source": [
        "## Question 6"
      ]
    },
    {
      "cell_type": "markdown",
      "metadata": {
        "id": "A1TqNt5nLZkU"
      },
      "source": [
        "Consider a Twitter retweet network, where users are nodes and we want to show how many times a given user has retweeted another user. What link type best captures this relation?\n",
        "1.   Undirected, unweighted\n",
        "2.   Undirected, weighted\n",
        "3.   Directed, unweighted\n",
        "4.   Directed, weighted"
      ]
    },
    {
      "cell_type": "markdown",
      "metadata": {
        "id": "yJNqiQJ5LkFy"
      },
      "source": [
        "Answer: 4. Direcionada, assim eu consigo pegar os out-degree do usuário que eu quero avaliar (considerando cada link com outro nó = rt) e ponderado, para contar a quantidade de rts de cada usuário."
      ]
    },
    {
      "cell_type": "markdown",
      "metadata": {
        "id": "ZT5mLS7-Lsb2"
      },
      "source": [
        "## Question 7"
      ]
    },
    {
      "cell_type": "markdown",
      "metadata": {
        "id": "ofRy-TURMLix"
      },
      "source": [
        "Consider a hashtag co-occurrence graph from Twitter. In this network, hashtags are the nodes, and a link between two hashtags indicates how often those two hashtags appear in tweets together. What link type would best capture this relation?\n",
        "1.   Undirected, unweighted\n",
        "2.   Undirected, weighted\n",
        "3.   Directed, unweighted\n",
        "4.   Directed, weighted"
      ]
    },
    {
      "cell_type": "markdown",
      "metadata": {
        "id": "8H7AiKavMQsT"
      },
      "source": [
        "Answer: 2 "
      ]
    },
    {
      "cell_type": "markdown",
      "metadata": {
        "id": "4-bIhQwpMVs3"
      },
      "source": [
        "## Question 8"
      ]
    },
    {
      "cell_type": "markdown",
      "metadata": {
        "id": "9SVLykJ6M5lM"
      },
      "source": [
        "Consider a network created from characters in a story or play. The nodes are people, and a link exists between two nodes if those characters ever engage in dialogue. Which type of edge could represent this relation? Justify your answer.\n",
        "1.   Undirected, unweighted\n",
        "2.   Undirected, weighted\n",
        "3.   Directed, unweighted\n",
        "4.   Directed, weighted"
      ]
    },
    {
      "cell_type": "markdown",
      "metadata": {
        "id": "FnvkcRD-M8eq"
      },
      "source": [
        "Answer: 1"
      ]
    },
    {
      "cell_type": "markdown",
      "metadata": {
        "id": "S4Ga_yyYNBBo"
      },
      "source": [
        "## Question 9"
      ]
    },
    {
      "cell_type": "markdown",
      "metadata": {
        "id": "1_z4ApdLNa6a"
      },
      "source": [
        "Suppose we want to make a more complex version of a dialog network that captures how much each character speaks and to whom. What type of link would best represent this relation?\n",
        "1.   Undirected, unweighted\n",
        "2.   Undirected, weighted\n",
        "3.   Directed, unweighted\n",
        "4.   Directed, weighted"
      ]
    },
    {
      "cell_type": "markdown",
      "metadata": {
        "id": "urjFC0KTNefy"
      },
      "source": [
        "Answer: 4"
      ]
    },
    {
      "cell_type": "markdown",
      "metadata": {
        "id": "hct-5tQwNg5_"
      },
      "source": [
        "## Question 10"
      ]
    },
    {
      "cell_type": "markdown",
      "metadata": {
        "id": "soJKH_N1Nnj3"
      },
      "source": [
        "Imagine that your social network has a subnetwork where you and 24 of your friends (25 people total) are all friends with each other. What is such a subnetwork called? And how many links are contained in the subnetwork?"
      ]
    },
    {
      "cell_type": "markdown",
      "metadata": {
        "id": "e8GcJrj1Npay"
      },
      "source": [
        "Answer: A rede é chamada de rede completa. Considerando que no facebook uma amizade é uma via de mão dupla - x só é amigo de y se y for amigo de x - esse grafo seria um grafo não dirigido. Assim, quantidade de links máxima em um grafo não dirigido é dada pelo fórmula N(N-1)/2. Dessa forma, essa rede contém 25*24 = 600/2 = 300 links.\n"
      ]
    },
    {
      "cell_type": "markdown",
      "metadata": {
        "id": "--K9oj5YNrjz"
      },
      "source": [
        "## Question 11"
      ]
    },
    {
      "cell_type": "markdown",
      "metadata": {
        "id": "DRFut7ovNz41"
      },
      "source": [
        "Consider an undirected network with N nodes. What is the maximum number of links this network can have?"
      ]
    },
    {
      "cell_type": "markdown",
      "metadata": {
        "id": "60iToMENN61m"
      },
      "source": [
        "Answer: (N(N-1))/2"
      ]
    },
    {
      "cell_type": "markdown",
      "metadata": {
        "id": "cER1jb6SN8NF"
      },
      "source": [
        "## Question 12"
      ]
    },
    {
      "cell_type": "markdown",
      "metadata": {
        "id": "PyyEb1GeOBK9"
      },
      "source": [
        "Consider a bipartite network of N nodes, $N_1$ nodes of type 1 and $N_2$ nodes of type 2 (so that $N_1 + $N_2 = N$). What is the maximum number of links in this network?"
      ]
    },
    {
      "cell_type": "markdown",
      "metadata": {
        "id": "6AoiES-AOJdB"
      },
      "source": [
        "Answer: N1 x N2 "
      ]
    },
    {
      "cell_type": "markdown",
      "metadata": {
        "id": "RN4CfOSqOK_1"
      },
      "source": [
        "## Question 13"
      ]
    },
    {
      "cell_type": "markdown",
      "metadata": {
        "id": "9SGJKgblOO9g"
      },
      "source": [
        "Given a complete network A with N nodes, and a bipartite network B also with N nodes, which of the following holds true for any $N > 2$:\n",
        "1.   Network A has more links than network B\n",
        "2.   Network A has the same number of links as network B\n",
        "3.   Network A has fewer links than network B\n",
        "4.   None of these hold true for all such $N > 2$"
      ]
    },
    {
      "cell_type": "markdown",
      "metadata": {
        "id": "cwF6C1uLOiWr"
      },
      "source": [
        "Answer: 1"
      ]
    },
    {
      "cell_type": "markdown",
      "metadata": {
        "id": "SKKotfslOluz"
      },
      "source": [
        "## Question 14\n",
        "\n"
      ]
    },
    {
      "cell_type": "markdown",
      "metadata": {
        "id": "GMh5WvjiPwzv"
      },
      "source": [
        "Consider this adjacency matrix:\n",
        "\n",
        "<center><img width=\"300\" src=\"https://drive.google.com/uc?export=view&id=1e4ANqX_kJCPhnVizvbK-ToBJgrZJpVde\"></center>\n",
        "\n",
        "An entry in the ith row and jth column indicates the weight of the link from node i to node j. For instance, the entry in the second row and third column is 2, meaning the weight of the link from node B to node C is 2. What kind of network does this matrix represent?\n",
        "1.   Undirected, unweighted\n",
        "2.   Undirected, weighted\n",
        "3.   Directed, unweighted\n",
        "4.   Directed, weighted\n"
      ]
    },
    {
      "cell_type": "markdown",
      "metadata": {
        "id": "UD5mRmSpRelN"
      },
      "source": [
        "Answer: 4"
      ]
    },
    {
      "cell_type": "markdown",
      "metadata": {
        "id": "N92A04bZP6Uu"
      },
      "source": [
        "## Question 15"
      ]
    },
    {
      "cell_type": "markdown",
      "metadata": {
        "id": "MqTaMtfDRKY1"
      },
      "source": [
        "We have seen that Facebook’s network is incredibly sparse. Assume it has approximately 1 billion users, each with 1000 friends on average.\n",
        "\n",
        "1. Suppose Facebook releases its annual report and it shows that while the number of users in the network has stayed the same, the average number of friends per user has increased. Would this imply that the network density increased, decreased, or stayed the same?\n",
        "2. Suppose instead that both the number of users and the average number of friends per user doubled. Would this imply the network density increased, decreased, or stayed the same?\n",
        "\n"
      ]
    },
    {
      "cell_type": "markdown",
      "metadata": {
        "id": "tc14eV8jRXsu"
      },
      "source": [
        "Answer: 1. Increased. 2. Decreased "
      ]
    },
    {
      "cell_type": "markdown",
      "metadata": {
        "id": "hzp00QnjRgxU"
      },
      "source": [
        "## Question 16"
      ]
    },
    {
      "cell_type": "markdown",
      "metadata": {
        "id": "9O0ElA4FR1sR"
      },
      "source": [
        "Netflix keeps data on customer preferences using a big bipartite network connecting users to titles. Suppose that from 2013 to 2014 Netflix’s library has remained the same size, while the number of users has increased. Further suppose that the average user’s degree in this network has remained constant. Has the density of this network increased, decreased, or stayed the same?"
      ]
    },
    {
      "cell_type": "markdown",
      "metadata": {
        "id": "UdewP6VvR6VD"
      },
      "source": [
        "Answer: Permaneceu a mesma, porque o crescimento vai ser linear. Para ilustrar:\n",
        "\n",
        "N -> Número de usuários\n",
        "M -> Número de títulos\n",
        "k -> Grau médio\n",
        "\n",
        "Densidade: N \\* k / N \\* M\n",
        "k e M são constantes, então k/M é constante. Isolando fica:\n",
        "\n",
        "N/N * k/M\n",
        "\n",
        "Independentemente do quanto N cresça, a densidade seguirá sendo igual a k/M já que N/N = 1."
      ]
    },
    {
      "cell_type": "markdown",
      "metadata": {
        "id": "3xO32cYISYkQ"
      },
      "source": [
        "# Exercise - Hands On (1,00 point for grade in Unit 01)"
      ]
    },
    {
      "cell_type": "markdown",
      "metadata": {
        "id": "-I9SonWrTIH-"
      },
      "source": [
        "Implementing all hands on using both [NetworkX](https://networkx.org/) and [Graph-Tool](https://graph-tool.skewed.de/) frameworks."
      ]
    },
    {
      "cell_type": "code",
      "metadata": {
        "id": "902DZgwBwDXq"
      },
      "source": [
        "import networkx as nx"
      ],
      "execution_count": 3,
      "outputs": []
    },
    {
      "cell_type": "code",
      "metadata": {
        "id": "49pIBRWb1Bp8"
      },
      "source": [
        "!apt-get install libcairo2-dev \n",
        "!pip install pycairo"
      ],
      "execution_count": null,
      "outputs": []
    },
    {
      "cell_type": "code",
      "metadata": {
        "id": "iEe5w9My1HI8"
      },
      "source": [
        "!sudo echo \"deb http://downloads.skewed.de/apt bionic main\" >> /etc/apt/sources.list\n",
        "!sudo apt-key adv --keyserver keys.openpgp.org --recv-key 612DEFB798507F25\n",
        "!sudo apt-get update\n",
        "!sudo apt-get install python3-graph-tool python3-matplotlib"
      ],
      "execution_count": null,
      "outputs": []
    },
    {
      "cell_type": "code",
      "metadata": {
        "id": "-X_8kg9t1rng"
      },
      "source": [
        "import graph_tool as gt\n",
        "from graph_tool.util import find_vertex"
      ],
      "execution_count": 6,
      "outputs": []
    },
    {
      "cell_type": "markdown",
      "metadata": {
        "id": "7if-CnFwSfPc"
      },
      "source": [
        "## Hands On 01"
      ]
    },
    {
      "cell_type": "markdown",
      "metadata": {
        "id": "SuO9vOYd9gFV"
      },
      "source": [
        "\n",
        "Often in the context of trees, a node with degree 1 is called a *leaf*. Write a function named `get_leaves` that takes a graph as an argument, loops through the nodes, and returns a list of nodes with degree 1."
      ]
    },
    {
      "cell_type": "markdown",
      "metadata": {
        "id": "7Ret4mgyqTfV"
      },
      "source": [
        "## NetworkX"
      ]
    },
    {
      "cell_type": "code",
      "metadata": {
        "scrolled": true,
        "id": "FlGKqf0MmgnB"
      },
      "source": [
        "def get_leaves(G):\n",
        "    leaves = []\n",
        "    \n",
        "    for node in G:\n",
        "        if len(G.edges(node)) == 1:\n",
        "            leaves.append(node)\n",
        "\n",
        "    return leaves"
      ],
      "execution_count": 7,
      "outputs": []
    },
    {
      "cell_type": "code",
      "metadata": {
        "scrolled": true,
        "id": "mVBLr5_xmgnB"
      },
      "source": [
        "G = nx.Graph()\n",
        "G.add_edges_from([\n",
        "        ('a', 'b'),\n",
        "        ('a', 'd'),\n",
        "        ('c', 'd'),\n",
        "    ])\n",
        "assert set(get_leaves(G)) == {'c', 'b'}"
      ],
      "execution_count": 8,
      "outputs": []
    },
    {
      "cell_type": "markdown",
      "metadata": {
        "id": "nsHKxXutqXsi"
      },
      "source": [
        "## Graph-Tool"
      ]
    },
    {
      "cell_type": "code",
      "metadata": {
        "id": "imc72il311Zf"
      },
      "source": [
        "def get_leaves_gt(g):\n",
        "    leaves = []\n",
        "\n",
        "    for v in g.vertices():\n",
        "        if len(list(v.all_neighbors())) == 1:\n",
        "            leaves.append(g.vp.name[v])\n",
        "\n",
        "    return leaves"
      ],
      "execution_count": 9,
      "outputs": []
    },
    {
      "cell_type": "code",
      "metadata": {
        "id": "4qW3z4Cm11f9"
      },
      "source": [
        "g = gt.Graph(directed=False)\n",
        "\n",
        "vprop = g.new_vertex_property(\"string\")\n",
        "g.vertex_properties[\"name\"] = vprop\n",
        "\n",
        "g.add_vertex(n=4)\n",
        "g.vp.name[0] = 'a'\n",
        "g.vp.name[1] = 'b'\n",
        "g.vp.name[2] = 'c'\n",
        "g.vp.name[3] = 'd'\n",
        "\n",
        "g.add_edge(g.vertex(0), g.vertex(1))\n",
        "g.add_edge(g.vertex(0), g.vertex(3))\n",
        "g.add_edge(g.vertex(2), g.vertex(3))\n",
        "\n",
        "assert set(get_leaves_gt(g)) == {'c', 'b'}"
      ],
      "execution_count": 11,
      "outputs": []
    },
    {
      "cell_type": "markdown",
      "metadata": {
        "id": "TcYdyCnEmgnD"
      },
      "source": [
        "## Hands On 02"
      ]
    },
    {
      "cell_type": "markdown",
      "metadata": {
        "id": "MsE6DTbI9m4t"
      },
      "source": [
        "\n",
        "Write a function max_degree that takes a graph as its argument, and returns a 2-tuple with the name and degree of the node with highest degree."
      ]
    },
    {
      "cell_type": "markdown",
      "metadata": {
        "id": "X-UK4xJJqhC9"
      },
      "source": [
        "## NetworkX"
      ]
    },
    {
      "cell_type": "code",
      "metadata": {
        "scrolled": false,
        "id": "DLufczZQmgnD"
      },
      "source": [
        "def max_degree(G):\n",
        "    highest = (None, None)\n",
        "\n",
        "    for node in G:\n",
        "        degree = len(G.edges(node))\n",
        "\n",
        "        if not highest[0] or not highest[1]:\n",
        "            highest = (node, degree)\n",
        "            continue\n",
        "\n",
        "        if degree > highest[1]:\n",
        "            highest = (node, degree)\n",
        "\n",
        "    return highest"
      ],
      "execution_count": 12,
      "outputs": []
    },
    {
      "cell_type": "code",
      "metadata": {
        "id": "errbt5rLrASa"
      },
      "source": [
        "SG = nx.read_adjlist('friends.adjlist')\n",
        "assert max_degree(SG) == ('Claire', 4)"
      ],
      "execution_count": 13,
      "outputs": []
    },
    {
      "cell_type": "markdown",
      "metadata": {
        "id": "aPoTsSzbrDoe"
      },
      "source": [
        "## Graph-Tool"
      ]
    },
    {
      "cell_type": "code",
      "metadata": {
        "id": "Yteeq-Kb8qD0"
      },
      "source": [
        "def read_adjlist_gt(path):\n",
        "    adjlist = open(path, 'r').readlines()\n",
        "    adj_arrays = []\n",
        "    \n",
        "    for line in adjlist:\n",
        "        items = line.split(' ')\n",
        "        items[-1] = items[-1].replace('\\n', '')\n",
        "        adj_arrays.append(items)\n",
        "\n",
        "    g = gt.Graph(directed=False)\n",
        "\n",
        "    vprop = g.new_vertex_property(\"string\")\n",
        "    g.vertex_properties[\"name\"] = vprop\n",
        "\n",
        "    for adj_array in adj_arrays:\n",
        "        v = g.add_vertex(n=1)\n",
        "        vprop[v] = adj_array[0]\n",
        "\n",
        "    for adj_array in adj_arrays:\n",
        "        for neighbor in adj_array[1:]:\n",
        "            g.add_edge(find_vertex(g, vprop, adj_array[0])[0], find_vertex(g,vprop, neighbor)[0])\n",
        "\n",
        "    return g"
      ],
      "execution_count": 14,
      "outputs": []
    },
    {
      "cell_type": "code",
      "metadata": {
        "id": "nqaOEThv5F69"
      },
      "source": [
        "def max_degree_gt(g):\n",
        "    highest = (None, None)\n",
        "\n",
        "    for v in g.vertices():\n",
        "        degree = len(list(v.all_neighbors()))\n",
        "\n",
        "        if not highest[0] or not highest[1]:\n",
        "            highest = (g.vp.name[v], degree)\n",
        "            continue\n",
        "\n",
        "        if degree > highest[1]:\n",
        "            highest = (g.vp.name[v], degree)\n",
        "\n",
        "    return highest"
      ],
      "execution_count": 15,
      "outputs": []
    },
    {
      "cell_type": "code",
      "metadata": {
        "scrolled": false,
        "id": "aEQapPYNmgnD"
      },
      "source": [
        "sg = read_adjlist_gt('friends.adjlist')\n",
        "assert max_degree_gt(sg) == ('Claire', 4)"
      ],
      "execution_count": 16,
      "outputs": []
    },
    {
      "cell_type": "markdown",
      "metadata": {
        "id": "MCDbNldnmgnD"
      },
      "source": [
        "## Hands on 03"
      ]
    },
    {
      "cell_type": "markdown",
      "metadata": {
        "id": "RWup3uDm9n5I"
      },
      "source": [
        "\n",
        "Write a function `mutual_friends` that takes a graph and two nodes as arguments, and returns a list (or set) of nodes that are linked to both given nodes. For example, in the graph `SG` drawn above,\n",
        "\n",
        "    mutual_friends(SG, 'Alice', 'Claire') == ['Frank']\n",
        "\n",
        "an empty list or set should be returned in the case where two nodes have no mutual friends, e.g. George and Bob in `SG` drawn above."
      ]
    },
    {
      "cell_type": "markdown",
      "metadata": {
        "id": "mjtCwwTwrJBe"
      },
      "source": [
        "## NetworkX"
      ]
    },
    {
      "cell_type": "code",
      "metadata": {
        "scrolled": false,
        "id": "hpnX9YeKmgnD"
      },
      "source": [
        "def mutual_friends(G, node_1, node_2):\n",
        "    friends_1 = [friend[1] for friend in G.edges(node_1)]\n",
        "    friends_2 = [friend[1] for friend in G.edges(node_2)]\n",
        "\n",
        "    mutuals = []\n",
        "\n",
        "    for friend in friends_1:\n",
        "        if friend in friends_2:\n",
        "            mutuals.append(friend)\n",
        "\n",
        "    return mutuals"
      ],
      "execution_count": 17,
      "outputs": []
    },
    {
      "cell_type": "code",
      "metadata": {
        "id": "JrpyysXXrMVw"
      },
      "source": [
        "SG = nx.read_adjlist('friends.adjlist')\n",
        "assert mutual_friends(SG, 'Alice', 'Claire') == ['Frank']\n",
        "assert mutual_friends(SG, 'George', 'Bob') == []\n",
        "assert sorted(mutual_friends(SG, 'Claire', 'George')) == ['Dennis', 'Frank']"
      ],
      "execution_count": 18,
      "outputs": []
    },
    {
      "cell_type": "markdown",
      "metadata": {
        "id": "C2iyb7LcrQJT"
      },
      "source": [
        "## Graph-Tool"
      ]
    },
    {
      "cell_type": "code",
      "metadata": {
        "id": "3zyH_2dC8QBF"
      },
      "source": [
        "def mutual_friends_gt(g, name_1, name_2):\n",
        "    friends_1 = [g.vp.name[friend] for friend in find_vertex(g, g.vertex_properties[\"name\"], name_1)[0].all_neighbors()]\n",
        "    friends_2 = [g.vp.name[friend] for friend in find_vertex(g, g.vertex_properties[\"name\"], name_2)[0].all_neighbors()]\n",
        "\n",
        "    mutuals = []\n",
        "\n",
        "    for friend in friends_1:\n",
        "        if friend in friends_2:\n",
        "            mutuals.append(friend)\n",
        "\n",
        "    return mutuals"
      ],
      "execution_count": 19,
      "outputs": []
    },
    {
      "cell_type": "code",
      "metadata": {
        "scrolled": true,
        "id": "B2n0vCRYmgnE"
      },
      "source": [
        "sg = read_adjlist_gt('friends.adjlist')\n",
        "assert mutual_friends_gt(sg, 'Alice', 'Claire') == ['Frank']\n",
        "assert mutual_friends_gt(sg, 'George', 'Bob') == []\n",
        "assert sorted(mutual_friends_gt(sg, 'Claire', 'George')) == ['Dennis', 'Frank']"
      ],
      "execution_count": 20,
      "outputs": []
    }
  ]
}